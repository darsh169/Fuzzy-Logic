{
 "cells": [
  {
   "cell_type": "code",
   "execution_count": 127,
   "metadata": {},
   "outputs": [],
   "source": [
    "import numpy as np\n",
    "import skfuzzy as fuzz\n",
    "from matplotlib import pyplot as plt"
   ]
  },
  {
   "cell_type": "code",
   "execution_count": 128,
   "metadata": {},
   "outputs": [],
   "source": [
    "uni1=np.arange(0,100.1,0.1)#universe of all attributes"
   ]
  },
  {
   "cell_type": "code",
   "execution_count": 129,
   "metadata": {},
   "outputs": [],
   "source": [
    "def attribute():#to create membership functions of attributes of mental work load\n",
    "    ante={'low':fuzz.trimf(uni1,[0,0,32.9]),\n",
    "          'medium lower':fuzz.trimf(uni1,[33,49.9,49.9]),\n",
    "          'medium upper':fuzz.trimf(uni1,[50,50,66.9]),\n",
    "         'high':fuzz.trimf(uni1,[70,100,100])}\n",
    "    return ante"
   ]
  },
  {
   "cell_type": "code",
   "execution_count": 130,
   "metadata": {},
   "outputs": [],
   "source": [
    "def zadeh(*args):#using zadeh fuzzy operator to calculate results of tnorm and tconorm\n",
    "    return {'min':min(args),'max':max(args)}#min is tnorm, max is tconorm"
   ]
  },
  {
   "cell_type": "code",
   "execution_count": 131,
   "metadata": {},
   "outputs": [],
   "source": [
    "def non_coex(r1,r2):\n",
    "    if(r1>r2):\n",
    "        r2=0\n",
    "    else:\n",
    "        r1=0\n",
    "    return r1,r2"
   ]
  },
  {
   "cell_type": "code",
   "execution_count": 132,
   "metadata": {},
   "outputs": [],
   "source": [
    "#creating all attributes\n",
    "md=attribute()\n",
    "eff=attribute()\n",
    "td=attribute()\n",
    "pf=attribute()\n",
    "fr=attribute()"
   ]
  },
  {
   "cell_type": "code",
   "execution_count": 133,
   "metadata": {},
   "outputs": [],
   "source": [
    "#to calculate neccessity of membership functions\n",
    "def nec(a,x):\n",
    "    c=int(x*10)\n",
    "    return a['low'][c],a['medium lower'][c],a['medium upper'][c],a['high'][c]\n",
    "    "
   ]
  },
  {
   "cell_type": "code",
   "execution_count": 134,
   "metadata": {},
   "outputs": [],
   "source": [
    "#input in crisp values\n",
    "mdIn=32.1\n",
    "effIn=42.1\n",
    "tdIn=52.1\n",
    "pfIn=62.1\n",
    "frIn=72.1\n"
   ]
  },
  {
   "cell_type": "code",
   "execution_count": 135,
   "metadata": {},
   "outputs": [],
   "source": [
    "temp_md=nec(md,mdIn)\n",
    "temp_eff=nec(eff,effIn)\n",
    "temp_td=nec(td,tdIn)\n",
    "temp_pf=nec(pf,pfIn)\n",
    "temp_fr=nec(fr,frIn)"
   ]
  },
  {
   "cell_type": "code",
   "execution_count": 136,
   "metadata": {},
   "outputs": [],
   "source": [
    "md1=temp_md[0]#temp_md[0]=nec(md['low']) which is present in antecedent of rule1\n",
    "md2=temp_md[1]\n",
    "md3=temp_md[2]\n",
    "md4=temp_md[3]\n",
    "td1=temp_td[0]\n",
    "td2=temp_td[1]\n",
    "td3=temp_td[2]\n",
    "td4=temp_td[3]\n",
    "ef1=temp_eff[0]\n",
    "ef2=temp_eff[1]\n",
    "ef3=temp_eff[2]\n",
    "ef4=temp_eff[3]\n",
    "pf1=temp_pf[0]\n",
    "pf2=temp_pf[1]\n",
    "pf3=temp_pf[2]\n",
    "pf4=temp_pf[3]\n",
    "fr1=temp_fr[0]#low\n",
    "fr2=temp_fr[3]#high"
   ]
  },
  {
   "cell_type": "code",
   "execution_count": 137,
   "metadata": {},
   "outputs": [],
   "source": [
    "#calculating truth values of rules using neccessities of diff attributes\n",
    "rule1=zadeh(md1,1-fr2,1-ef4)['min']#if ef4 then not md1,fr2 and md1 cant coexist"
   ]
  },
  {
   "cell_type": "code",
   "execution_count": 138,
   "metadata": {},
   "outputs": [],
   "source": [
    "rule2=md2\n",
    "rule3=md3\n",
    "rule4=zadeh(md4,1-fr1,1-ef1)['min']#fr1 and md4 cant coexist,ef1 and md4 cant coexist"
   ]
  },
  {
   "cell_type": "code",
   "execution_count": 139,
   "metadata": {},
   "outputs": [],
   "source": [
    "rule5=zadeh(td1,1-fr2)['min']#td1-fr2 cant coexist\n",
    "rule6=td2\n",
    "rule7=td3\n",
    "rule8=zadeh(td4,1-fr1)['min']#td4-fr1 cant coexist\n",
    "rule9=zadeh(ef1,1-fr2,1-md4)['min']\n",
    "rule10=ef2\n",
    "rule11=ef3\n",
    "rule12=zadeh(ef4,1-fr1)['min']\n",
    "rule13=pf1\n",
    "rule14=pf2\n",
    "rule15=pf3\n",
    "rule16=pf4\n",
    "rule17=zadeh(fr1,1-pf1,1-md4,1-td4,1-ef4)['min']\n",
    "rule18=zadeh(fr2,1-pf4,1-md1,1-td1)['min']"
   ]
  },
  {
   "cell_type": "code",
   "execution_count": 140,
   "metadata": {},
   "outputs": [],
   "source": [
    "#calculating final degree of membership of each mwl member function in output\n",
    "underload=zadeh(rule1,rule5,rule9,rule16,rule17)['max']"
   ]
  },
  {
   "cell_type": "code",
   "execution_count": 141,
   "metadata": {},
   "outputs": [],
   "source": [
    "fit_low_load=zadeh(rule2,rule6,rule10,rule15)['max']\n",
    "fit_up_load=zadeh(rule3,rule7,rule11,rule14)['max']\n",
    "overload=zadeh(rule4,rule8,rule12,rule13,rule18)['max']"
   ]
  },
  {
   "cell_type": "code",
   "execution_count": 142,
   "metadata": {},
   "outputs": [],
   "source": [
    "#print(underload,fit_low_load,fit_up_load,overload)\n"
   ]
  },
  {
   "cell_type": "code",
   "execution_count": 143,
   "metadata": {},
   "outputs": [],
   "source": [
    "#to create mwl member functions\n",
    "def mwl_levels():\n",
    "    ante={'underload':fuzz.trimf(uni1,[0,0,32.9]),\n",
    "          'fit low load':fuzz.trimf(uni1,[33,49.9,49.9]),\n",
    "          'fit up load':fuzz.trimf(uni1,[50,50,66.9]),\n",
    "         'overload':fuzz.trimf(uni1,[70,100,100])}\n",
    "    return ante\n",
    "    "
   ]
  },
  {
   "cell_type": "code",
   "execution_count": 144,
   "metadata": {},
   "outputs": [],
   "source": [
    "#creating mwl member functions\n",
    "mwl=mwl_levels()"
   ]
  },
  {
   "cell_type": "code",
   "execution_count": null,
   "metadata": {},
   "outputs": [],
   "source": []
  },
  {
   "cell_type": "code",
   "execution_count": 145,
   "metadata": {},
   "outputs": [],
   "source": [
    "#transforming the membership functions for final result\n",
    "u_cap=np.minimum(underload,mwl['underload'])\n",
    "fll_cap=np.minimum(fit_low_load,mwl['fit low load'])\n",
    "ful_cap=np.minimum(fit_up_load,mwl['fit up load'])\n",
    "o_cap=np.minimum(overload,mwl['overload'])"
   ]
  },
  {
   "cell_type": "code",
   "execution_count": 146,
   "metadata": {},
   "outputs": [
    {
     "data": {
      "text/plain": [
       "[<matplotlib.lines.Line2D at 0x28f3477ad48>]"
      ]
     },
     "execution_count": 146,
     "metadata": {},
     "output_type": "execute_result"
    },
    {
     "data": {
      "image/png": "[encoded data removed]",
      "text/plain": [
       "<Figure size 432x288 with 1 Axes>"
      ]
     },
     "metadata": {
      "needs_background": "light"
     },
     "output_type": "display_data"
    }
   ],
   "source": [
    "fig,ax=plt.subplots()\n",
    "ax.plot(uni1,u_cap)\n",
    "ax.plot(uni1,fll_cap)\n",
    "ax.plot(uni1,ful_cap)\n",
    "ax.plot(uni1,o_cap)"
   ]
  },
  {
   "cell_type": "code",
   "execution_count": 147,
   "metadata": {},
   "outputs": [],
   "source": [
    "#creating final result\n",
    "final=np.maximum.reduce([u_cap,fll_cap,ful_cap,o_cap])"
   ]
  },
  {
   "cell_type": "code",
   "execution_count": 148,
   "metadata": {},
   "outputs": [
    {
     "data": {
      "text/plain": [
       "[<matplotlib.lines.Line2D at 0x28f347b9288>]"
      ]
     },
     "execution_count": 148,
     "metadata": {},
     "output_type": "execute_result"
    },
    {
     "data": {
      "image/png": "[encoded data removed]",
      "text/plain": [
       "<Figure size 432x288 with 1 Axes>"
      ]
     },
     "metadata": {
      "needs_background": "light"
     },
     "output_type": "display_data"
    }
   ],
   "source": [
    "fig,ax=plt.subplots()\n",
    "ax.plot(uni1,final)"
   ]
  },
  {
   "cell_type": "code",
   "execution_count": 149,
   "metadata": {},
   "outputs": [],
   "source": [
    "#calculating final crisp value by defuzzification\n",
    "result=fuzz.defuzz(uni1,final,'centroid')"
   ]
  },
  {
   "cell_type": "code",
   "execution_count": 150,
   "metadata": {},
   "outputs": [
    {
     "data": {
      "text/plain": [
       "52.765422173152224"
      ]
     },
     "execution_count": 150,
     "metadata": {},
     "output_type": "execute_result"
    }
   ],
   "source": [
    "result"
   ]
  },
  {
   "cell_type": "code",
   "execution_count": null,
   "metadata": {},
   "outputs": [],
   "source": []
  }
 ],
 "metadata": {
  "kernelspec": {
   "display_name": "Python 3",
   "language": "python",
   "name": "python3"
  },
  "language_info": {
   "codemirror_mode": {
    "name": "ipython",
    "version": 3
   },
   "file_extension": ".py",
   "mimetype": "text/x-python",
   "name": "python",
   "nbconvert_exporter": "python",
   "pygments_lexer": "ipython3",
   "version": "3.7.4"
  }
 },
 "nbformat": 4,
 "nbformat_minor": 2
}
